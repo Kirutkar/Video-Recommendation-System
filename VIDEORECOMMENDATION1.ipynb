{
 "cells": [
  {
   "cell_type": "code",
   "execution_count": 42,
   "id": "c43d3880-8e8d-4597-b1c9-f07478e6e564",
   "metadata": {},
   "outputs": [],
   "source": [
    "import pandas as pd\n",
    "import numpy as np"
   ]
  },
  {
   "cell_type": "markdown",
   "id": "57fbd551-5195-410a-a5f4-cf06171d0ac8",
   "metadata": {},
   "source": [
    "<h2>DATA PREPROCESSING<H2>"
   ]
  },
  {
   "cell_type": "code",
   "execution_count": 43,
   "id": "e2add963-040b-4941-a7e4-f78ff2bec0f0",
   "metadata": {},
   "outputs": [],
   "source": [
    "liked_posts = pd.read_csv(\"C:\\\\Users\\\\kirut\\\\PycharmProjects\\\\codebasics\\\\VideoRecommendationSystem\\\\data\\\\cleaned_liked_post.csv\")\n",
    "rated_posts = pd.read_csv(\"C:\\\\Users\\\\kirut\\\\PycharmProjects\\\\codebasics\\\\VideoRecommendationSystem\\\\data\\\\cleaned_rated_post.csv\")\n",
    "view_posts = pd.read_csv(\"C:\\\\Users\\\\kirut\\\\PycharmProjects\\\\codebasics\\\\VideoRecommendationSystem\\\\data\\\\cleaned_viewed_post.csv\")\n",
    "inspired_posts=pd.read_csv(\"C:\\\\Users\\\\kirut\\\\PycharmProjects\\\\codebasics\\\\VideoRecommendationSystem\\\\data\\\\cleaned_inspired_post.csv\")\n",
    "all_posts=pd.read_csv(\"C:\\\\Users\\\\kirut\\\\PycharmProjects\\\\codebasics\\\\VideoRecommendationSystem\\\\data\\\\cleaned_all_post.csv\")\n",
    "all_users=pd.read_csv(\"C:\\\\Users\\\\kirut\\\\PycharmProjects\\\\codebasics\\\\VideoRecommendationSystem\\\\data\\\\cleaned_all_users.csv\")\n"
   ]
  },
  {
   "cell_type": "code",
   "execution_count": 44,
   "id": "86fdb632-d2eb-4899-a4e3-e3fa4b2577e9",
   "metadata": {},
   "outputs": [],
   "source": [
    "#Cleaning each dataset  before concat\n",
    "for df in [liked_posts, rated_posts, view_posts, inspired_posts, all_posts, all_users]:\n",
    "    df.drop_duplicates(inplace=True)\n"
   ]
  },
  {
   "cell_type": "code",
   "execution_count": 45,
   "id": "77185555-d525-41c1-98e8-e9036f9e18bb",
   "metadata": {},
   "outputs": [],
   "source": [
    "# Standardize key columns\n",
    "for df in [liked_posts, rated_posts, view_posts, inspired_posts, all_posts, all_users]:\n",
    "    df['id'] = df['id'].astype(int)"
   ]
  },
  {
   "cell_type": "code",
   "execution_count": 46,
   "id": "d96b448e-2ecc-4b0e-9ad8-17584be02ef6",
   "metadata": {},
   "outputs": [],
   "source": [
    "all_users['username'] = all_users['username'].str.lower().str.strip()"
   ]
  },
  {
   "cell_type": "code",
   "execution_count": 47,
   "id": "b730c05a-7318-49e1-8a0a-de239b37eaef",
   "metadata": {},
   "outputs": [
    {
     "name": "stdout",
     "output_type": "stream",
     "text": [
      "Missing values in liked_posts:\n",
      "id                       0\n",
      "slug                     0\n",
      "title                   15\n",
      "identifier               0\n",
      "comment_count            0\n",
      "upvote_count             0\n",
      "view_count               0\n",
      "exit_count               0\n",
      "rating_count             0\n",
      "average_rating           0\n",
      "share_count              0\n",
      "video_link               0\n",
      "contract_address        59\n",
      "chain_id                59\n",
      "chart_url               59\n",
      "is_locked                0\n",
      "created_at               0\n",
      "first_name               0\n",
      "last_name                0\n",
      "username                 0\n",
      "upvoted                  0\n",
      "bookmarked               0\n",
      "gif_thumbnail_url       51\n",
      "following                0\n",
      "baseToken_address       59\n",
      "baseToken_name          59\n",
      "baseToken_symbol        59\n",
      "baseToken_image_url     59\n",
      "category_id              0\n",
      "category_name            0\n",
      "category_count           0\n",
      "category_description     0\n",
      "category_image_url       0\n",
      "total_interactions       0\n",
      "dtype: int64\n",
      "Missing values in rated_posts:\n",
      "id                        0\n",
      "slug                      0\n",
      "title                    42\n",
      "identifier                0\n",
      "comment_count             0\n",
      "upvote_count              0\n",
      "view_count                0\n",
      "exit_count                0\n",
      "rating_count              0\n",
      "average_rating            0\n",
      "share_count               0\n",
      "video_link                0\n",
      "contract_address        144\n",
      "chain_id                144\n",
      "chart_url               144\n",
      "is_locked                 0\n",
      "created_at                0\n",
      "first_name                0\n",
      "last_name                 0\n",
      "username                  0\n",
      "upvoted                   0\n",
      "bookmarked                0\n",
      "gif_thumbnail_url       104\n",
      "following                 0\n",
      "baseToken_address       144\n",
      "baseToken_name          144\n",
      "baseToken_symbol        144\n",
      "baseToken_image_url     146\n",
      "category_id               0\n",
      "category_name             0\n",
      "category_count            0\n",
      "category_description      0\n",
      "category_image_url        0\n",
      "dtype: int64\n",
      "Missing values in view_posts:\n",
      "id                        0\n",
      "slug                      0\n",
      "title                     9\n",
      "identifier                0\n",
      "comment_count             0\n",
      "upvote_count              0\n",
      "view_count                0\n",
      "exit_count                0\n",
      "rating_count              0\n",
      "average_rating            0\n",
      "share_count               0\n",
      "video_link                0\n",
      "contract_address         98\n",
      "chain_id                 98\n",
      "chart_url                98\n",
      "is_locked                 0\n",
      "created_at                0\n",
      "first_name                0\n",
      "last_name                 0\n",
      "username                  0\n",
      "upvoted                   0\n",
      "bookmarked                0\n",
      "gif_thumbnail_url        39\n",
      "following                 0\n",
      "category_id               0\n",
      "category_name             0\n",
      "category_count            0\n",
      "category_description      0\n",
      "category_image_url        0\n",
      "baseToken_address        98\n",
      "baseToken_name           98\n",
      "baseToken_symbol         98\n",
      "baseToken_image_url     100\n",
      "engagement_score          0\n",
      "interaction_rate          0\n",
      "dtype: int64\n",
      "Missing values in inspired_posts:\n",
      "id                       0\n",
      "slug                     0\n",
      "title                    5\n",
      "identifier               0\n",
      "comment_count            0\n",
      "upvote_count             0\n",
      "view_count               0\n",
      "exit_count               0\n",
      "rating_count             0\n",
      "average_rating           0\n",
      "share_count              0\n",
      "video_link               0\n",
      "contract_address        18\n",
      "chain_id                18\n",
      "chart_url               18\n",
      "is_locked                0\n",
      "created_at               0\n",
      "first_name               0\n",
      "last_name                0\n",
      "username                 0\n",
      "upvoted                  0\n",
      "bookmarked               0\n",
      "gif_thumbnail_url       14\n",
      "following                0\n",
      "baseToken_address       18\n",
      "baseToken_name          18\n",
      "baseToken_symbol        18\n",
      "baseToken_image_url     18\n",
      "category_id              0\n",
      "category_name            0\n",
      "category_count           0\n",
      "category_description     0\n",
      "category_image_url       0\n",
      "dtype: int64\n",
      "Missing values in all_posts:\n",
      "id                        0\n",
      "slug                      0\n",
      "title                   322\n",
      "identifier                0\n",
      "comment_count             0\n",
      "upvote_count              0\n",
      "view_count                0\n",
      "exit_count                0\n",
      "rating_count              0\n",
      "average_rating            0\n",
      "share_count               0\n",
      "video_link                0\n",
      "contract_address        988\n",
      "chain_id                988\n",
      "chart_url               988\n",
      "is_locked                 0\n",
      "created_at                0\n",
      "first_name                0\n",
      "last_name                 0\n",
      "username                  0\n",
      "upvoted                   0\n",
      "bookmarked                0\n",
      "gif_thumbnail_url       883\n",
      "following                 0\n",
      "baseToken_address       988\n",
      "baseToken_name          988\n",
      "baseToken_symbol        988\n",
      "baseToken_image_url     990\n",
      "category_id               0\n",
      "category_name             0\n",
      "category_count            0\n",
      "category_description      0\n",
      "category_image_url        0\n",
      "dtype: int64\n",
      "Missing values in all_users:\n",
      "id                    0\n",
      "first_name            0\n",
      "last_name             0\n",
      "username              0\n",
      "email                 0\n",
      "role                  0\n",
      "profile_url           0\n",
      "bio                1108\n",
      "website_url        1121\n",
      "instagram-url        60\n",
      "youtube_url          63\n",
      "tictok_url           63\n",
      "isVerified            0\n",
      "referral_code       877\n",
      "has_wallet            0\n",
      "last_login          272\n",
      "share_count           0\n",
      "post_count            0\n",
      "following_count       0\n",
      "follower_count        0\n",
      "is_verified           0\n",
      "is_online             0\n",
      "latitude           1130\n",
      "longitude          1130\n",
      "dtype: int64\n"
     ]
    }
   ],
   "source": [
    "# Check for missing values in each dataset\n",
    "print(\"Missing values in liked_posts:\")\n",
    "print(liked_posts.isnull().sum())\n",
    "\n",
    "print(\"Missing values in rated_posts:\")\n",
    "print(rated_posts.isnull().sum())\n",
    "\n",
    "print(\"Missing values in view_posts:\")\n",
    "print(view_posts.isnull().sum())\n",
    "\n",
    "print(\"Missing values in inspired_posts:\")\n",
    "print(inspired_posts.isnull().sum())\n",
    "\n",
    "print(\"Missing values in all_posts:\")\n",
    "print(all_posts.isnull().sum())\n",
    "\n",
    "print(\"Missing values in all_users:\")\n",
    "print(all_users.isnull().sum())"
   ]
  },
  {
   "cell_type": "code",
   "execution_count": 48,
   "id": "42f6bc4d-2131-4d65-82c1-7ed4c821e804",
   "metadata": {},
   "outputs": [],
   "source": [
    "#HAndling missimng values in Interaction Datasets Liked_post,Inspired_post,Rated_post,Viewed_post\n",
    "# Columns to drop\n",
    "drop_columns_posts = ['contract_address', 'chain_id', 'chart_url', 'gif_thumbnail_url',\n",
    "                      'baseToken_address', 'baseToken_name', 'baseToken_symbol', 'baseToken_image_url']\n",
    "\n",
    "# Apply transformations to all datasets\n",
    "for df in [liked_posts, rated_posts, view_posts, inspired_posts]:\n",
    "    df.drop(columns=drop_columns_posts, inplace=True)\n",
    "    df.fillna({\n",
    "        'title': 'Unknown Title',\n",
    "        'category_name': 'general',\n",
    "        'view_count': 0,\n",
    "        'comment_count': 0,\n",
    "        'upvote_count': 0,\n",
    "        'share_count': 0,\n",
    "    }, inplace=True)\n",
    "    # Drop rows with missing IDs or usernames\n",
    "    df.dropna(subset=['id', 'username'], inplace=True)"
   ]
  },
  {
   "cell_type": "code",
   "execution_count": 11,
   "id": "84a540bb-c7e2-474d-ab7f-691328ba3eef",
   "metadata": {},
   "outputs": [
    {
     "name": "stdout",
     "output_type": "stream",
     "text": [
      "Missing values in liked_posts:\n",
      "id                      0\n",
      "slug                    0\n",
      "title                   0\n",
      "identifier              0\n",
      "comment_count           0\n",
      "upvote_count            0\n",
      "view_count              0\n",
      "exit_count              0\n",
      "rating_count            0\n",
      "average_rating          0\n",
      "share_count             0\n",
      "video_link              0\n",
      "is_locked               0\n",
      "created_at              0\n",
      "first_name              0\n",
      "last_name               0\n",
      "username                0\n",
      "upvoted                 0\n",
      "bookmarked              0\n",
      "following               0\n",
      "category_id             0\n",
      "category_name           0\n",
      "category_count          0\n",
      "category_description    0\n",
      "category_image_url      0\n",
      "total_interactions      0\n",
      "dtype: int64\n",
      "Missing values in rated_posts:\n",
      "id                      0\n",
      "slug                    0\n",
      "title                   0\n",
      "identifier              0\n",
      "comment_count           0\n",
      "upvote_count            0\n",
      "view_count              0\n",
      "exit_count              0\n",
      "rating_count            0\n",
      "average_rating          0\n",
      "share_count             0\n",
      "video_link              0\n",
      "is_locked               0\n",
      "created_at              0\n",
      "first_name              0\n",
      "last_name               0\n",
      "username                0\n",
      "upvoted                 0\n",
      "bookmarked              0\n",
      "following               0\n",
      "category_id             0\n",
      "category_name           0\n",
      "category_count          0\n",
      "category_description    0\n",
      "category_image_url      0\n",
      "dtype: int64\n",
      "Missing values in view_posts:\n",
      "id                      0\n",
      "slug                    0\n",
      "title                   0\n",
      "identifier              0\n",
      "comment_count           0\n",
      "upvote_count            0\n",
      "view_count              0\n",
      "exit_count              0\n",
      "rating_count            0\n",
      "average_rating          0\n",
      "share_count             0\n",
      "video_link              0\n",
      "is_locked               0\n",
      "created_at              0\n",
      "first_name              0\n",
      "last_name               0\n",
      "username                0\n",
      "upvoted                 0\n",
      "bookmarked              0\n",
      "following               0\n",
      "category_id             0\n",
      "category_name           0\n",
      "category_count          0\n",
      "category_description    0\n",
      "category_image_url      0\n",
      "engagement_score        0\n",
      "interaction_rate        0\n",
      "dtype: int64\n",
      "Missing values in inspired_posts:\n",
      "id                      0\n",
      "slug                    0\n",
      "title                   0\n",
      "identifier              0\n",
      "comment_count           0\n",
      "upvote_count            0\n",
      "view_count              0\n",
      "exit_count              0\n",
      "rating_count            0\n",
      "average_rating          0\n",
      "share_count             0\n",
      "video_link              0\n",
      "is_locked               0\n",
      "created_at              0\n",
      "first_name              0\n",
      "last_name               0\n",
      "username                0\n",
      "upvoted                 0\n",
      "bookmarked              0\n",
      "following               0\n",
      "category_id             0\n",
      "category_name           0\n",
      "category_count          0\n",
      "category_description    0\n",
      "category_image_url      0\n",
      "dtype: int64\n"
     ]
    }
   ],
   "source": [
    "print(\"Missing values in liked_posts:\")\n",
    "print(liked_posts.isnull().sum())\n",
    "\n",
    "print(\"Missing values in rated_posts:\")\n",
    "print(rated_posts.isnull().sum())\n",
    "\n",
    "print(\"Missing values in view_posts:\")\n",
    "print(view_posts.isnull().sum())\n",
    "\n",
    "print(\"Missing values in inspired_posts:\")\n",
    "print(inspired_posts.isnull().sum())"
   ]
  },
  {
   "cell_type": "code",
   "execution_count": 49,
   "id": "5e60c965-1d33-4f73-95a5-8647b9b29d3f",
   "metadata": {},
   "outputs": [],
   "source": [
    "#Handling Missing values in All_post dataset\n",
    "# Columns to drop\n",
    "drop_columns_all_posts = ['contract_address', 'chain_id', 'chart_url', 'gif_thumbnail_url',\n",
    "                          'baseToken_address', 'baseToken_name', 'baseToken_symbol', 'baseToken_image_url']\n",
    "\n",
    "# Transformations for all_posts\n",
    "all_posts.drop(columns=drop_columns_all_posts, inplace=True)\n",
    "all_posts.fillna({\n",
    "    'title': 'Unknown Title',\n",
    "    'category_name': 'general',\n",
    "    'view_count': 0,\n",
    "    'comment_count': 0,\n",
    "    'upvote_count': 0,\n",
    "    'share_count': 0,\n",
    "}, inplace=True)\n",
    "all_posts.dropna(subset=['id'], inplace=True)\n"
   ]
  },
  {
   "cell_type": "code",
   "execution_count": 50,
   "id": "8b965611-afd6-4739-b79c-a6093a91c092",
   "metadata": {},
   "outputs": [
    {
     "name": "stdout",
     "output_type": "stream",
     "text": [
      "Missing values in all_posts:\n",
      "id                      0\n",
      "slug                    0\n",
      "title                   0\n",
      "identifier              0\n",
      "comment_count           0\n",
      "upvote_count            0\n",
      "view_count              0\n",
      "exit_count              0\n",
      "rating_count            0\n",
      "average_rating          0\n",
      "share_count             0\n",
      "video_link              0\n",
      "is_locked               0\n",
      "created_at              0\n",
      "first_name              0\n",
      "last_name               0\n",
      "username                0\n",
      "upvoted                 0\n",
      "bookmarked              0\n",
      "following               0\n",
      "category_id             0\n",
      "category_name           0\n",
      "category_count          0\n",
      "category_description    0\n",
      "category_image_url      0\n",
      "dtype: int64\n"
     ]
    }
   ],
   "source": [
    "print(\"Missing values in all_posts:\")\n",
    "print(all_posts.isnull().sum())"
   ]
  },
  {
   "cell_type": "code",
   "execution_count": 51,
   "id": "aeb959fc-e18d-41ae-97ea-8f0d80460319",
   "metadata": {},
   "outputs": [],
   "source": [
    "#Handling missing values in All_Users\n",
    "# Columns to drop\n",
    "drop_columns_users = ['bio', 'website_url', 'instagram-url', 'youtube_url', 'tictok_url', \n",
    "                      'referral_code', 'latitude', 'longitude', 'has_wallet']\n",
    "\n",
    "# Transformations for all_users\n",
    "all_users.drop(columns=drop_columns_users, inplace=True)\n",
    "all_users.fillna({\n",
    "    'username': 'unknown_user',\n",
    "    'email': 'unknown@example.com',\n",
    "    'last_login': '2024-01-01',\n",
    "    'follower_count': 0,\n",
    "    'following_count': 0,\n",
    "    'post_count': 0,\n",
    "    'share_count': 0,\n",
    "}, inplace=True)"
   ]
  },
  {
   "cell_type": "code",
   "execution_count": 52,
   "id": "c197ce03-d0f9-41ca-99d9-9a3a95984956",
   "metadata": {},
   "outputs": [
    {
     "name": "stdout",
     "output_type": "stream",
     "text": [
      "Missing values in all_users:\n",
      "id                 0\n",
      "first_name         0\n",
      "last_name          0\n",
      "username           0\n",
      "email              0\n",
      "role               0\n",
      "profile_url        0\n",
      "isVerified         0\n",
      "last_login         0\n",
      "share_count        0\n",
      "post_count         0\n",
      "following_count    0\n",
      "follower_count     0\n",
      "is_verified        0\n",
      "is_online          0\n",
      "dtype: int64\n"
     ]
    }
   ],
   "source": [
    "print(\"Missing values in all_users:\")\n",
    "print(all_users.isnull().sum())"
   ]
  },
  {
   "cell_type": "code",
   "execution_count": 53,
   "id": "a7f1ef6b-759e-40d3-9f5a-6db872985190",
   "metadata": {},
   "outputs": [
    {
     "data": {
      "text/plain": [
       "0       2024-12-05 15:21:15\n",
       "1                2024-01-01\n",
       "2                2024-01-01\n",
       "3                2024-01-01\n",
       "4       2024-12-06 02:20:32\n",
       "               ...         \n",
       "1125    2024-12-05 18:14:28\n",
       "1126    2024-12-05 16:18:37\n",
       "1127    2024-12-05 16:21:45\n",
       "1128             2024-01-01\n",
       "1129             2024-01-01\n",
       "Name: last_login, Length: 1130, dtype: object"
      ]
     },
     "execution_count": 53,
     "metadata": {},
     "output_type": "execute_result"
    }
   ],
   "source": [
    "all_users['last_login']"
   ]
  },
  {
   "cell_type": "code",
   "execution_count": 54,
   "id": "5e139c8c-9681-4f7f-b2d6-05e9c9795f4b",
   "metadata": {},
   "outputs": [],
   "source": [
    "# Add interaction type column\n",
    "liked_posts['interaction_type'] = 'like'\n",
    "rated_posts['interaction_type'] = 'rate'\n",
    "view_posts['interaction_type'] = 'view'\n",
    "inspired_posts['interaction_type'] = 'inspire'\n"
   ]
  },
  {
   "cell_type": "code",
   "execution_count": 55,
   "id": "9e605cc7-7767-492e-8cee-95cd81832906",
   "metadata": {},
   "outputs": [],
   "source": [
    "# Concatenate all interaction datasets\n",
    "interactions = pd.concat([liked_posts, rated_posts, view_posts, inspired_posts], ignore_index=True)\n"
   ]
  },
  {
   "cell_type": "code",
   "execution_count": 56,
   "id": "92c52aa7-f6cd-484a-b080-d8c3dd48f7d3",
   "metadata": {},
   "outputs": [
    {
     "data": {
      "text/plain": [
       "Index(['id', 'slug', 'title', 'identifier', 'comment_count', 'upvote_count',\n",
       "       'view_count', 'exit_count', 'rating_count', 'average_rating',\n",
       "       'share_count', 'video_link', 'is_locked', 'created_at', 'first_name',\n",
       "       'last_name', 'username', 'upvoted', 'bookmarked', 'following',\n",
       "       'category_id', 'category_name', 'category_count',\n",
       "       'category_description', 'category_image_url', 'total_interactions',\n",
       "       'interaction_type', 'engagement_score', 'interaction_rate'],\n",
       "      dtype='object')"
      ]
     },
     "execution_count": 56,
     "metadata": {},
     "output_type": "execute_result"
    }
   ],
   "source": [
    "interactions.columns"
   ]
  },
  {
   "cell_type": "code",
   "execution_count": 57,
   "id": "e77bc595-d6f2-4195-a089-df1e7ca72938",
   "metadata": {},
   "outputs": [],
   "source": [
    "columns_to_retain = [\n",
    "    'id', 'title', 'comment_count', 'upvote_count', 'view_count', 'rating_count',\n",
    "    'average_rating', 'share_count','exit_count', 'created_at', 'username', 'interaction_type',\n",
    "    'engagement_score', 'interaction_rate','category_id','video_link'\n",
    "]\n",
    "interactions = interactions[columns_to_retain]"
   ]
  },
  {
   "cell_type": "code",
   "execution_count": 58,
   "id": "da1ab0ea-17b7-4bf9-98f2-b96c75703b05",
   "metadata": {},
   "outputs": [
    {
     "data": {
      "text/plain": [
       "id                    0\n",
       "title                 0\n",
       "comment_count         0\n",
       "upvote_count          0\n",
       "view_count            0\n",
       "rating_count          0\n",
       "average_rating        0\n",
       "share_count           0\n",
       "exit_count            0\n",
       "created_at            0\n",
       "username              0\n",
       "interaction_type      0\n",
       "engagement_score    267\n",
       "interaction_rate    267\n",
       "category_id           0\n",
       "video_link            0\n",
       "dtype: int64"
      ]
     },
     "execution_count": 58,
     "metadata": {},
     "output_type": "execute_result"
    }
   ],
   "source": [
    "interactions.isnull().sum()"
   ]
  },
  {
   "cell_type": "code",
   "execution_count": 59,
   "id": "9bf34f93-71d3-4431-a364-b3f08039f3fd",
   "metadata": {},
   "outputs": [],
   "source": [
    "interactions['engagement_score'] = (interactions['view_count'] + interactions['upvote_count'] - interactions['exit_count']) / (interactions['view_count'] + 1)\n",
    "interactions['interaction_rate'] = interactions['upvote_count'] / (interactions['view_count'] + 1)"
   ]
  },
  {
   "cell_type": "code",
   "execution_count": 60,
   "id": "8203086f-811c-48ca-911b-0018ce86fdd5",
   "metadata": {},
   "outputs": [
    {
     "data": {
      "text/plain": [
       "id                  0\n",
       "title               0\n",
       "comment_count       0\n",
       "upvote_count        0\n",
       "view_count          0\n",
       "rating_count        0\n",
       "average_rating      0\n",
       "share_count         0\n",
       "exit_count          0\n",
       "created_at          0\n",
       "username            0\n",
       "interaction_type    0\n",
       "engagement_score    0\n",
       "interaction_rate    0\n",
       "category_id         0\n",
       "video_link          0\n",
       "dtype: int64"
      ]
     },
     "execution_count": 60,
     "metadata": {},
     "output_type": "execute_result"
    }
   ],
   "source": [
    "interactions.isnull().sum()"
   ]
  },
  {
   "cell_type": "code",
   "execution_count": 61,
   "id": "e6ec04a8-633c-4999-a8b7-77b62fdf734b",
   "metadata": {},
   "outputs": [],
   "source": [
    "interactions.to_csv(\"data/cleaned_interactions2.csv\", index=False)"
   ]
  },
  {
   "cell_type": "code",
   "execution_count": 62,
   "id": "cba7ba6e-f802-48bb-95bd-b953847e413d",
   "metadata": {},
   "outputs": [
    {
     "data": {
      "text/plain": [
       "Index(['id', 'slug', 'title', 'identifier', 'comment_count', 'upvote_count',\n",
       "       'view_count', 'exit_count', 'rating_count', 'average_rating',\n",
       "       'share_count', 'video_link', 'is_locked', 'created_at', 'first_name',\n",
       "       'last_name', 'username', 'upvoted', 'bookmarked', 'following',\n",
       "       'category_id', 'category_name', 'category_count',\n",
       "       'category_description', 'category_image_url'],\n",
       "      dtype='object')"
      ]
     },
     "execution_count": 62,
     "metadata": {},
     "output_type": "execute_result"
    }
   ],
   "source": [
    "all_posts.columns"
   ]
  },
  {
   "cell_type": "code",
   "execution_count": 63,
   "id": "14be8973-62de-4cc3-b9ac-1e4a5c270299",
   "metadata": {},
   "outputs": [],
   "source": [
    "columns_to_retain = [\n",
    "    'id', 'title', 'comment_count', 'upvote_count', 'view_count', 'rating_count',\n",
    "    'average_rating', 'share_count','exit_count', 'created_at', 'username','category_name','category_count','category_description'\n",
    "]\n",
    "all_posts=all_posts[columns_to_retain]"
   ]
  },
  {
   "cell_type": "code",
   "execution_count": 64,
   "id": "697eb6a4-ca7e-460b-8f19-1eeada2b4a88",
   "metadata": {},
   "outputs": [],
   "source": [
    "#Merge Interaction Data with Posts\n",
    "merged_data = pd.merge(interactions, all_posts, on='id', how='inner')"
   ]
  },
  {
   "cell_type": "code",
   "execution_count": 65,
   "id": "9b3ce388-c589-4af4-b6c1-317cceda1c8b",
   "metadata": {},
   "outputs": [
    {
     "data": {
      "text/plain": [
       "Index(['id', 'title_x', 'comment_count_x', 'upvote_count_x', 'view_count_x',\n",
       "       'rating_count_x', 'average_rating_x', 'share_count_x', 'exit_count_x',\n",
       "       'created_at_x', 'username_x', 'interaction_type', 'engagement_score',\n",
       "       'interaction_rate', 'category_id', 'video_link', 'title_y',\n",
       "       'comment_count_y', 'upvote_count_y', 'view_count_y', 'rating_count_y',\n",
       "       'average_rating_y', 'share_count_y', 'exit_count_y', 'created_at_y',\n",
       "       'username_y', 'category_name', 'category_count',\n",
       "       'category_description'],\n",
       "      dtype='object')"
      ]
     },
     "execution_count": 65,
     "metadata": {},
     "output_type": "execute_result"
    }
   ],
   "source": [
    "merged_data.columns"
   ]
  },
  {
   "cell_type": "code",
   "execution_count": 66,
   "id": "6e391e92-30b4-45cd-b36f-4c04ac40baaa",
   "metadata": {},
   "outputs": [],
   "source": [
    "merged_data = merged_data.drop(columns=['title_y', 'comment_count_y', 'upvote_count_y', \n",
    "                                       'view_count_y', 'rating_count_y', 'average_rating_y', \n",
    "                                       'share_count_y', 'created_at_y', 'username_y', \n",
    "                                       'exit_count_y'])"
   ]
  },
  {
   "cell_type": "code",
   "execution_count": 67,
   "id": "c29540f4-d839-4150-ac28-490a044ddf50",
   "metadata": {},
   "outputs": [],
   "source": [
    "merged_data.rename(columns={\n",
    "    'username_x': 'username',\n",
    "    'title_x': 'title',\n",
    "    'comment_count_x':'comment_count',\n",
    "    'upvote_count_x':'upvote_count',\n",
    "    'view_count_x':'view_count',\n",
    " 'rating_count_x': 'rating_count',\n",
    "     'average_rating_x': 'average_rating',\n",
    "    'share_count_x':'share_count',\n",
    "    'exit_count_x':'exit_count',\n",
    "    'created_at_x': 'created_at'\n",
    "}, inplace=True)"
   ]
  },
  {
   "cell_type": "code",
   "execution_count": 68,
   "id": "8ea618b8-a9be-439e-a165-2d50fe726d1d",
   "metadata": {},
   "outputs": [
    {
     "data": {
      "text/plain": [
       "Index(['id', 'title', 'comment_count', 'upvote_count', 'view_count',\n",
       "       'rating_count', 'average_rating', 'share_count', 'exit_count',\n",
       "       'created_at', 'username', 'interaction_type', 'engagement_score',\n",
       "       'interaction_rate', 'category_id', 'video_link', 'category_name',\n",
       "       'category_count', 'category_description'],\n",
       "      dtype='object')"
      ]
     },
     "execution_count": 68,
     "metadata": {},
     "output_type": "execute_result"
    }
   ],
   "source": [
    "merged_data.columns"
   ]
  },
  {
   "cell_type": "code",
   "execution_count": 69,
   "id": "fe05e74d-64b0-4840-b878-6ba9e838580f",
   "metadata": {},
   "outputs": [
    {
     "data": {
      "text/plain": [
       "Index(['id', 'first_name', 'last_name', 'username', 'email', 'role',\n",
       "       'profile_url', 'isVerified', 'last_login', 'share_count', 'post_count',\n",
       "       'following_count', 'follower_count', 'is_verified', 'is_online'],\n",
       "      dtype='object')"
      ]
     },
     "execution_count": 69,
     "metadata": {},
     "output_type": "execute_result"
    }
   ],
   "source": [
    "all_users.columns"
   ]
  },
  {
   "cell_type": "code",
   "execution_count": 70,
   "id": "22693b14-9e0b-4462-9b07-f9b7c2ba1a0f",
   "metadata": {},
   "outputs": [],
   "source": [
    "columns_to_retain = [\n",
    "    'id', 'username', 'email', 'first_name', 'last_name', 'role', 'profile_url',\n",
    "    'isVerified', 'last_login', 'share_count', 'post_count',\n",
    "    'following_count', 'follower_count'\n",
    "]\n",
    "all_users=all_users[columns_to_retain]"
   ]
  },
  {
   "cell_type": "code",
   "execution_count": 71,
   "id": "f7f5eceb-3e3f-4e5c-a91a-968c1d036e03",
   "metadata": {},
   "outputs": [
    {
     "data": {
      "text/plain": [
       "Index(['id', 'username', 'email', 'first_name', 'last_name', 'role',\n",
       "       'profile_url', 'isVerified', 'last_login', 'share_count', 'post_count',\n",
       "       'following_count', 'follower_count'],\n",
       "      dtype='object')"
      ]
     },
     "execution_count": 71,
     "metadata": {},
     "output_type": "execute_result"
    }
   ],
   "source": [
    "all_users.columns"
   ]
  },
  {
   "cell_type": "code",
   "execution_count": 72,
   "id": "6e13e369-8e7e-4654-90b0-0aa9473d0bca",
   "metadata": {},
   "outputs": [],
   "source": [
    "#Merge User Data\n",
    "final_data = pd.merge(merged_data, all_users, on='username', how='inner')"
   ]
  },
  {
   "cell_type": "code",
   "execution_count": 73,
   "id": "8ab4b24b-a2a8-4fa1-9979-80ff0166da76",
   "metadata": {},
   "outputs": [
    {
     "data": {
      "text/plain": [
       "Index(['id_x', 'title', 'comment_count', 'upvote_count', 'view_count',\n",
       "       'rating_count', 'average_rating', 'share_count_x', 'exit_count',\n",
       "       'created_at', 'username', 'interaction_type', 'engagement_score',\n",
       "       'interaction_rate', 'category_id', 'video_link', 'category_name',\n",
       "       'category_count', 'category_description', 'id_y', 'email', 'first_name',\n",
       "       'last_name', 'role', 'profile_url', 'isVerified', 'last_login',\n",
       "       'share_count_y', 'post_count', 'following_count', 'follower_count'],\n",
       "      dtype='object')"
      ]
     },
     "execution_count": 73,
     "metadata": {},
     "output_type": "execute_result"
    }
   ],
   "source": [
    "final_data.columns"
   ]
  },
  {
   "cell_type": "code",
   "execution_count": 74,
   "id": "fe806943-5373-46e7-90b3-7e69fc89cd2b",
   "metadata": {},
   "outputs": [
    {
     "data": {
      "text/plain": [
       "Index(['id_x', 'title', 'comment_count', 'upvote_count', 'view_count',\n",
       "       'rating_count', 'average_rating', 'share_count_x', 'exit_count',\n",
       "       'created_at', 'username', 'interaction_type', 'engagement_score',\n",
       "       'interaction_rate', 'category_id', 'video_link', 'category_name',\n",
       "       'category_count', 'category_description', 'email', 'first_name',\n",
       "       'last_name', 'role', 'profile_url', 'isVerified', 'last_login',\n",
       "       'post_count', 'following_count', 'follower_count'],\n",
       "      dtype='object')"
      ]
     },
     "execution_count": 74,
     "metadata": {},
     "output_type": "execute_result"
    }
   ],
   "source": [
    "final_data=final_data.drop(columns=['id_y','share_count_y'])\n",
    "final_data.columns\n"
   ]
  },
  {
   "cell_type": "code",
   "execution_count": 75,
   "id": "68ee0d64-9a28-4f55-9060-a470117bbcf8",
   "metadata": {},
   "outputs": [],
   "source": [
    "final_data.rename(columns={'id_x':'id','share_count_x':'share_count'},inplace=True)"
   ]
  },
  {
   "cell_type": "code",
   "execution_count": 76,
   "id": "21b40c41-bca6-4ca8-adaf-ee6a12a575ea",
   "metadata": {},
   "outputs": [
    {
     "data": {
      "text/plain": [
       "Index(['id', 'title', 'comment_count', 'upvote_count', 'view_count',\n",
       "       'rating_count', 'average_rating', 'share_count', 'exit_count',\n",
       "       'created_at', 'username', 'interaction_type', 'engagement_score',\n",
       "       'interaction_rate', 'category_id', 'video_link', 'category_name',\n",
       "       'category_count', 'category_description', 'email', 'first_name',\n",
       "       'last_name', 'role', 'profile_url', 'isVerified', 'last_login',\n",
       "       'post_count', 'following_count', 'follower_count'],\n",
       "      dtype='object')"
      ]
     },
     "execution_count": 76,
     "metadata": {},
     "output_type": "execute_result"
    }
   ],
   "source": [
    "final_data.columns"
   ]
  },
  {
   "cell_type": "code",
   "execution_count": 35,
   "id": "07ce41d9-8ac6-4a41-bd74-ba0873969a0b",
   "metadata": {},
   "outputs": [],
   "source": [
    "final_data.to_csv(\"data/finaldata.csv\",index=False)"
   ]
  },
  {
   "cell_type": "code",
   "execution_count": 36,
   "id": "076ca1d8-fac9-411d-835c-064f8b407d3c",
   "metadata": {},
   "outputs": [
    {
     "data": {
      "text/plain": [
       "83"
      ]
     },
     "execution_count": 36,
     "metadata": {},
     "output_type": "execute_result"
    }
   ],
   "source": [
    "final_data['average_rating'].max()"
   ]
  },
  {
   "cell_type": "markdown",
   "id": "eaead9da-6f6d-4446-825e-02b504c34f95",
   "metadata": {},
   "source": [
    "<h2>FEATURE ENGINEERING<h2>"
   ]
  },
  {
   "cell_type": "code",
   "execution_count": 77,
   "id": "f06c9099-1b91-4c51-bc35-4958a8677c2b",
   "metadata": {},
   "outputs": [
    {
     "data": {
      "text/plain": [
       "array(['Bloom Scroll', 'Pumptok', 'Vible', 'SolTok', 'InstaRama', 'E/ACC',\n",
       "       'Flic', 'Gratitube'], dtype=object)"
      ]
     },
     "execution_count": 77,
     "metadata": {},
     "output_type": "execute_result"
    }
   ],
   "source": [
    "final_data['category_name'].unique()\n"
   ]
  },
  {
   "cell_type": "code",
   "execution_count": 78,
   "id": "8a873e02-6eaa-480f-a207-8c0b3409ccfd",
   "metadata": {},
   "outputs": [
    {
     "name": "stdout",
     "output_type": "stream",
     "text": [
      "       id category_name     mood\n",
      "0    1379  Bloom Scroll    Happy\n",
      "1    1379  Bloom Scroll    Happy\n",
      "2    1379  Bloom Scroll    Happy\n",
      "3    1380  Bloom Scroll    Happy\n",
      "4    1380  Bloom Scroll    Happy\n",
      "..    ...           ...      ...\n",
      "407    56         Vible    Happy\n",
      "408    40         Vible    Happy\n",
      "409    40         Vible    Happy\n",
      "410   633         Vible    Happy\n",
      "411  1340        SolTok  Neutral\n",
      "\n",
      "[412 rows x 3 columns]\n"
     ]
    }
   ],
   "source": [
    "#Creating mood column based on Category_name\n",
    "# Mood mapping based on category name\n",
    "category_mood_map = {\n",
    "    'Bloom Scroll': 'Happy',\n",
    "    'Pumptok': 'Excited',\n",
    "    'Vible': 'Happy',\n",
    "    'SolTok': 'Neutral',\n",
    "    'InstaRama': 'Happy',\n",
    "    'E/ACC': 'Neutral',\n",
    "    'Flic': 'Excited',\n",
    "    'Gratitube': 'Happy'\n",
    "}\n",
    "\n",
    "# Function to map category_name to mood\n",
    "def get_mood_from_category(category_name):\n",
    "    return category_mood_map.get(category_name, 'Neutral')  # Default to Neutral if not in map\n",
    "\n",
    "# Apply the function to create a new 'mood' column\n",
    "final_data['mood'] = final_data['category_name'].apply(get_mood_from_category)\n",
    "\n",
    "# View the result\n",
    "print(final_data[['id', 'category_name', 'mood']])"
   ]
  },
  {
   "cell_type": "code",
   "execution_count": 103,
   "id": "6db2244b-dbc4-4def-8443-11a8aae34067",
   "metadata": {},
   "outputs": [
    {
     "data": {
      "text/plain": [
       "Index(['id', 'title', 'comment_count', 'upvote_count', 'view_count',\n",
       "       'rating_count', 'average_rating', 'share_count', 'exit_count',\n",
       "       'created_at', 'username', 'interaction_type', 'engagement_score',\n",
       "       'interaction_rate', 'category_id', 'video_link', 'category_name',\n",
       "       'category_count', 'category_description', 'email', 'first_name',\n",
       "       'last_name', 'role', 'profile_url', 'isVerified', 'last_login',\n",
       "       'post_count', 'following_count', 'follower_count', 'mood', 'content'],\n",
       "      dtype='object')"
      ]
     },
     "execution_count": 103,
     "metadata": {},
     "output_type": "execute_result"
    }
   ],
   "source": [
    "final_data.columns"
   ]
  },
  {
   "cell_type": "code",
   "execution_count": 80,
   "id": "20144b2a-0843-4943-8d29-cf65e36bdc60",
   "metadata": {},
   "outputs": [],
   "source": [
    "final_data.to_csv(\"data/featureengineering.csv\",index=False)"
   ]
  },
  {
   "cell_type": "markdown",
   "id": "e07dab3b-8657-4c8d-aeb3-89fed6eb286d",
   "metadata": {},
   "source": [
    "<h2>ALGORITHM DEVELOPMENT</h2>"
   ]
  },
  {
   "cell_type": "markdown",
   "id": "b725d0c1-3e71-41af-a15a-03c466b57552",
   "metadata": {},
   "source": [
    "**1.CONTENT-BASED FILTERING**"
   ]
  },
  {
   "cell_type": "code",
   "execution_count": 156,
   "id": "c025066e-230b-45a4-820b-6acb9c2be8e9",
   "metadata": {},
   "outputs": [
    {
     "name": "stdout",
     "output_type": "stream",
     "text": [
      "0    Bloom Scroll Scroll until you bloom\n",
      "1    Bloom Scroll Scroll until you bloom\n",
      "Name: content, dtype: object\n"
     ]
    }
   ],
   "source": [
    "df=final_data\n",
    "# Combine category_name and category_description into a single column\n",
    "df['content'] = df['category_name'] + \" \" + df['category_description']\n",
    "print(df['content'].head(2))"
   ]
  },
  {
   "cell_type": "code",
   "execution_count": 157,
   "id": "44d8b112-7f60-4801-ad20-dae52e4dc140",
   "metadata": {},
   "outputs": [
    {
     "name": "stdout",
     "output_type": "stream",
     "text": [
      "(412, 57)\n"
     ]
    }
   ],
   "source": [
    "from sklearn.feature_extraction.text import TfidfVectorizer\n",
    "\n",
    "# Initialize the TF-IDF Vectorizer\n",
    "vectorizer = TfidfVectorizer(stop_words='english', ngram_range=(1, 2), max_features=5000)\n",
    "\n",
    "# Fit and transform the content column\n",
    "tfidf_matrix = vectorizer.fit_transform(df['content'])\n",
    "\n",
    "# Check the shape of the resulting TF-IDF matrix\n",
    "print(tfidf_matrix.shape)"
   ]
  },
  {
   "cell_type": "code",
   "execution_count": 158,
   "id": "5e2b1a7c-1c20-44e2-9e94-61e8a534fe8c",
   "metadata": {},
   "outputs": [],
   "source": [
    "from sklearn.preprocessing import MinMaxScaler\n",
    "\n",
    "scaler = MinMaxScaler()\n",
    "df['normalized_engagement'] = scaler.fit_transform(df[['engagement_score']])"
   ]
  },
  {
   "cell_type": "code",
   "execution_count": 147,
   "id": "11b4e611-1afd-405c-9504-325ffaa4e212",
   "metadata": {},
   "outputs": [
    {
     "name": "stdout",
     "output_type": "stream",
     "text": [
      "(412, 412)\n"
     ]
    }
   ],
   "source": [
    "from sklearn.metrics.pairwise import cosine_similarity\n",
    "\n",
    "# Compute the cosine similarity matrix\n",
    "cosine_sim = cosine_similarity(tfidf_matrix, tfidf_matrix)\n",
    "\n",
    "# Check the shape of the similarity matrix\n",
    "print(cosine_sim.shape)"
   ]
  },
  {
   "cell_type": "code",
   "execution_count": 159,
   "id": "d6d6aeb0-0a15-4bbb-8b8c-13bba019792b",
   "metadata": {},
   "outputs": [],
   "source": [
    "def get_recommendations(post_id, cosine_sim, df, top_n=5):\n",
    "     # Get the pairwise similarity scores for the given post\n",
    "    sim_scores = list(enumerate(cosine_sim[post_id]))\n",
    "    \n",
    "    # Sort by similarity score in descending order\n",
    "    sim_scores = sorted(sim_scores, key=lambda x: x[1], reverse=True)\n",
    "    \n",
    "    # Get the top_n similar posts (excluding the post itself)\n",
    "    sim_scores = sim_scores[1:top_n+1]\n",
    "    \n",
    "    # Get the post indices\n",
    "    post_indices = [i[0] for i in sim_scores]\n",
    "    predicted_scores = [i[1] for i in sim_scores]\n",
    "    recommendations = df.iloc[post_indices].copy()\n",
    "    recommendations['predicted_score'] = predicted_scores\n",
    "    \n",
    "    return recommendations"
   ]
  },
  {
   "cell_type": "code",
   "execution_count": 161,
   "id": "e5e4b65b-ec5b-491c-9a09-53f5a63fd151",
   "metadata": {},
   "outputs": [
    {
     "name": "stdout",
     "output_type": "stream",
     "text": [
      "     id                                              title category_name  \\\n",
      "1  1379  When the heart and the mind work together.. ❤️...  Bloom Scroll   \n",
      "2  1379  When the heart and the mind work together.. ❤️...  Bloom Scroll   \n",
      "3  1380  This reminder is so important 🌻↓\\n\\nHave you p...  Bloom Scroll   \n",
      "4  1380  This reminder is so important 🌻↓\\n\\nHave you p...  Bloom Scroll   \n",
      "5  1380  This reminder is so important 🌻↓\\n\\nHave you p...  Bloom Scroll   \n",
      "\n",
      "   normalized_engagement                                         video_link  \\\n",
      "1               0.467583  https://video-cdn.socialverseapp.com/bloomscro...   \n",
      "2               0.467583  https://video-cdn.socialverseapp.com/bloomscro...   \n",
      "3               0.559136  https://video-cdn.socialverseapp.com/bloomscro...   \n",
      "4               0.559136  https://video-cdn.socialverseapp.com/bloomscro...   \n",
      "5               0.559136  https://video-cdn.socialverseapp.com/bloomscro...   \n",
      "\n",
      "   predicted_score  \n",
      "1              1.0  \n",
      "2              1.0  \n",
      "3              1.0  \n",
      "4              1.0  \n",
      "5              1.0  \n"
     ]
    }
   ],
   "source": [
    "# Example: Get recommendations for the video at index 10\n",
    "recommended_posts = get_recommendations(10, cosine_sim, df, top_n=5)\n",
    "\n",
    "# Display the recommended posts with relevant details\n",
    "print(recommended_posts[['id', 'title', 'category_name', 'normalized_engagement','video_link','predicted_score']])"
   ]
  },
  {
   "cell_type": "markdown",
   "id": "7d20f1d2-2f06-4712-adc6-ce2b706b0495",
   "metadata": {},
   "source": [
    "**2.COLLABORATIVE FILTERING USER-BASED**"
   ]
  },
  {
   "cell_type": "code",
   "execution_count": 95,
   "id": "8ae04105-09be-4d7d-96ba-09943b7cecfb",
   "metadata": {},
   "outputs": [
    {
     "name": "stdout",
     "output_type": "stream",
     "text": [
      "id                  11        14        15        16       19        23    \\\n",
      "username                                                                    \n",
      "afrobeezy       1.709677  1.666667  1.887324  1.617647  1.34058  1.520548   \n",
      "bloomscroller   0.000000  0.000000  0.000000  0.000000  0.00000  0.000000   \n",
      "kinha           0.000000  0.000000  0.000000  0.000000  0.00000  0.000000   \n",
      "michaeldadziie  0.000000  0.000000  0.000000  0.000000  0.00000  0.000000   \n",
      "mike            0.000000  0.000000  0.000000  0.000000  0.00000  0.000000   \n",
      "\n",
      "id                  29        30        31       32    ...       1375    1376  \\\n",
      "username                                               ...                      \n",
      "afrobeezy       1.546667  1.846154  1.331034  1.74026  ...   0.000000   0.000   \n",
      "bloomscroller   0.000000  0.000000  0.000000  0.00000  ...   0.000000   0.000   \n",
      "kinha           0.000000  0.000000  0.000000  0.00000  ... -26.071429 -21.625   \n",
      "michaeldadziie  0.000000  0.000000  0.000000  0.00000  ...   0.000000   0.000   \n",
      "mike            0.000000  0.000000  0.000000  0.00000  ...   0.000000   0.000   \n",
      "\n",
      "id                   1377       1379  1380       1381      1384       1385  \\\n",
      "username                                                                     \n",
      "afrobeezy        0.000000   0.000000   0.0   0.000000   0.00000   0.000000   \n",
      "bloomscroller    0.000000 -20.777778 -15.6 -11.548387 -10.95122 -10.055556   \n",
      "kinha          -16.821429   0.000000   0.0   0.000000   0.00000   0.000000   \n",
      "michaeldadziie   0.000000   0.000000   0.0   0.000000   0.00000   0.000000   \n",
      "mike             0.000000   0.000000   0.0   0.000000   0.00000   0.000000   \n",
      "\n",
      "id                   1390       1391  \n",
      "username                              \n",
      "afrobeezy        0.000000   0.000000  \n",
      "bloomscroller  -19.434783 -26.571429  \n",
      "kinha            0.000000   0.000000  \n",
      "michaeldadziie   0.000000   0.000000  \n",
      "mike             0.000000   0.000000  \n",
      "\n",
      "[5 rows x 276 columns]\n"
     ]
    }
   ],
   "source": [
    "# Create the user-item interaction matrix\n",
    "interaction_matrix = df.pivot_table(index='username', columns='id', values='engagement_score', fill_value=0)\n",
    "\n",
    "# Display the interaction matrix\n",
    "print(interaction_matrix.head())"
   ]
  },
  {
   "cell_type": "code",
   "execution_count": 100,
   "id": "1adfc243-e167-4c73-a3c9-4bdb66cba1ef",
   "metadata": {},
   "outputs": [
    {
     "name": "stdout",
     "output_type": "stream",
     "text": [
      "[[ 3.          3.          3.          3.          3.        ]\n",
      " [-0.33333333 -0.33333333 -0.33333333 -0.33333333 -0.33333333]\n",
      " [-0.33333333 -0.33333333 -0.33333333 -0.33333333 -0.33333333]\n",
      " [-0.33333333 -0.33333333 -0.33333333 -0.33333333 -0.33333333]\n",
      " [-0.33333333 -0.33333333 -0.33333333 -0.33333333 -0.33333333]]\n"
     ]
    }
   ],
   "source": [
    "from sklearn.preprocessing import StandardScaler\n",
    "\n",
    "# Normalize the engagement score to handle varying scales\n",
    "scaler = StandardScaler()\n",
    "interaction_matrix_scaled = scaler.fit_transform(interaction_matrix)\n",
    "\n",
    "print(interaction_matrix_scaled[:5, :5])"
   ]
  },
  {
   "cell_type": "code",
   "execution_count": 104,
   "id": "7ced5069-0f41-48ec-a461-54197ccf7723",
   "metadata": {},
   "outputs": [],
   "source": [
    "# Create a unique user identifier (using 'username' for simplicity)\n",
    "df['user_id'] = df['username'] "
   ]
  },
  {
   "cell_type": "code",
   "execution_count": 105,
   "id": "c2d3c5ba-28e2-4613-b38b-4a69b4b4a957",
   "metadata": {},
   "outputs": [
    {
     "data": {
      "text/html": [
       "<style>#sk-container-id-2 {color: black;}#sk-container-id-2 pre{padding: 0;}#sk-container-id-2 div.sk-toggleable {background-color: white;}#sk-container-id-2 label.sk-toggleable__label {cursor: pointer;display: block;width: 100%;margin-bottom: 0;padding: 0.3em;box-sizing: border-box;text-align: center;}#sk-container-id-2 label.sk-toggleable__label-arrow:before {content: \"▸\";float: left;margin-right: 0.25em;color: #696969;}#sk-container-id-2 label.sk-toggleable__label-arrow:hover:before {color: black;}#sk-container-id-2 div.sk-estimator:hover label.sk-toggleable__label-arrow:before {color: black;}#sk-container-id-2 div.sk-toggleable__content {max-height: 0;max-width: 0;overflow: hidden;text-align: left;background-color: #f0f8ff;}#sk-container-id-2 div.sk-toggleable__content pre {margin: 0.2em;color: black;border-radius: 0.25em;background-color: #f0f8ff;}#sk-container-id-2 input.sk-toggleable__control:checked~div.sk-toggleable__content {max-height: 200px;max-width: 100%;overflow: auto;}#sk-container-id-2 input.sk-toggleable__control:checked~label.sk-toggleable__label-arrow:before {content: \"▾\";}#sk-container-id-2 div.sk-estimator input.sk-toggleable__control:checked~label.sk-toggleable__label {background-color: #d4ebff;}#sk-container-id-2 div.sk-label input.sk-toggleable__control:checked~label.sk-toggleable__label {background-color: #d4ebff;}#sk-container-id-2 input.sk-hidden--visually {border: 0;clip: rect(1px 1px 1px 1px);clip: rect(1px, 1px, 1px, 1px);height: 1px;margin: -1px;overflow: hidden;padding: 0;position: absolute;width: 1px;}#sk-container-id-2 div.sk-estimator {font-family: monospace;background-color: #f0f8ff;border: 1px dotted black;border-radius: 0.25em;box-sizing: border-box;margin-bottom: 0.5em;}#sk-container-id-2 div.sk-estimator:hover {background-color: #d4ebff;}#sk-container-id-2 div.sk-parallel-item::after {content: \"\";width: 100%;border-bottom: 1px solid gray;flex-grow: 1;}#sk-container-id-2 div.sk-label:hover label.sk-toggleable__label {background-color: #d4ebff;}#sk-container-id-2 div.sk-serial::before {content: \"\";position: absolute;border-left: 1px solid gray;box-sizing: border-box;top: 0;bottom: 0;left: 50%;z-index: 0;}#sk-container-id-2 div.sk-serial {display: flex;flex-direction: column;align-items: center;background-color: white;padding-right: 0.2em;padding-left: 0.2em;position: relative;}#sk-container-id-2 div.sk-item {position: relative;z-index: 1;}#sk-container-id-2 div.sk-parallel {display: flex;align-items: stretch;justify-content: center;background-color: white;position: relative;}#sk-container-id-2 div.sk-item::before, #sk-container-id-2 div.sk-parallel-item::before {content: \"\";position: absolute;border-left: 1px solid gray;box-sizing: border-box;top: 0;bottom: 0;left: 50%;z-index: -1;}#sk-container-id-2 div.sk-parallel-item {display: flex;flex-direction: column;z-index: 1;position: relative;background-color: white;}#sk-container-id-2 div.sk-parallel-item:first-child::after {align-self: flex-end;width: 50%;}#sk-container-id-2 div.sk-parallel-item:last-child::after {align-self: flex-start;width: 50%;}#sk-container-id-2 div.sk-parallel-item:only-child::after {width: 0;}#sk-container-id-2 div.sk-dashed-wrapped {border: 1px dashed gray;margin: 0 0.4em 0.5em 0.4em;box-sizing: border-box;padding-bottom: 0.4em;background-color: white;}#sk-container-id-2 div.sk-label label {font-family: monospace;font-weight: bold;display: inline-block;line-height: 1.2em;}#sk-container-id-2 div.sk-label-container {text-align: center;}#sk-container-id-2 div.sk-container {/* jupyter's `normalize.less` sets `[hidden] { display: none; }` but bootstrap.min.css set `[hidden] { display: none !important; }` so we also need the `!important` here to be able to override the default hidden behavior on the sphinx rendered scikit-learn.org. See: https://github.com/scikit-learn/scikit-learn/issues/21755 */display: inline-block !important;position: relative;}#sk-container-id-2 div.sk-text-repr-fallback {display: none;}</style><div id=\"sk-container-id-2\" class=\"sk-top-container\"><div class=\"sk-text-repr-fallback\"><pre>NearestNeighbors(metric=&#x27;cosine&#x27;)</pre><b>In a Jupyter environment, please rerun this cell to show the HTML representation or trust the notebook. <br />On GitHub, the HTML representation is unable to render, please try loading this page with nbviewer.org.</b></div><div class=\"sk-container\" hidden><div class=\"sk-item\"><div class=\"sk-estimator sk-toggleable\"><input class=\"sk-toggleable__control sk-hidden--visually\" id=\"sk-estimator-id-2\" type=\"checkbox\" checked><label for=\"sk-estimator-id-2\" class=\"sk-toggleable__label sk-toggleable__label-arrow\">NearestNeighbors</label><div class=\"sk-toggleable__content\"><pre>NearestNeighbors(metric=&#x27;cosine&#x27;)</pre></div></div></div></div></div>"
      ],
      "text/plain": [
       "NearestNeighbors(metric='cosine')"
      ]
     },
     "execution_count": 105,
     "metadata": {},
     "output_type": "execute_result"
    }
   ],
   "source": [
    "# Use KNN for User-Based Collaborative Filtering\n",
    "model = NearestNeighbors(n_neighbors=5, metric='cosine', algorithm='auto')\n",
    "model.fit(interaction_matrix.values)  # Fit the model on the interaction matrix\n"
   ]
  },
  {
   "cell_type": "code",
   "execution_count": 109,
   "id": "0acd6dd1-ebc6-4aec-af4c-e87c3e42d0e8",
   "metadata": {},
   "outputs": [],
   "source": [
    "# Recommend Posts for a Specific User\n",
    "def recommend_for_user(user_id, interaction_matrix, model, top_n=5):\n",
    "    # Check if user_id is in the interaction matrix\n",
    "    if user_id not in interaction_matrix.index:\n",
    "        return f\"User {user_id} not found in the dataset.\"\n",
    "    \n",
    "    # Get the index of the user in the interaction matrix\n",
    "    user_index = interaction_matrix.index.get_loc(user_id)\n",
    "\n",
    "    # Find the nearest neighbors (similar users) for the given user\n",
    "    distances, indices = model.kneighbors(interaction_matrix.iloc[user_index].values.reshape(1, -1))\n",
    "\n",
    "    # Get the list of similar users\n",
    "    similar_users = interaction_matrix.index[indices[0]]\n",
    "\n",
    "    # Get the list of posts the user has already interacted with\n",
    "    interacted_items = interaction_matrix.iloc[user_index][interaction_matrix.iloc[user_index] > 0].index\n",
    "    all_items = interaction_matrix.columns\n",
    "\n",
    "    # Filter out the posts the user has already interacted with\n",
    "    items_to_predict = [item for item in all_items if item not in interacted_items]\n",
    "\n",
    "    # Predict the scores for non-interacted posts based on similar users' engagement\n",
    "    predictions = []\n",
    "    for item in items_to_predict:\n",
    "        weighted_ratings = 0\n",
    "        total_similarity = 0\n",
    "        for similar_user in similar_users:\n",
    "            if interaction_matrix.loc[similar_user, item] > 0:  # Check if similar user interacted with the item\n",
    "                # Add the weighted engagement score from similar user\n",
    "                weighted_ratings += interaction_matrix.loc[similar_user, item] * (1 / (1 + distances[0][similar_users.get_loc(similar_user)]))\n",
    "                total_similarity += 1\n",
    "\n",
    "        if total_similarity > 0:\n",
    "            predictions.append((item, weighted_ratings / total_similarity))\n",
    "\n",
    "    # Sort predictions by predicted engagement score in descending order\n",
    "    top_predictions = sorted(predictions, key=lambda x: x[1], reverse=True)[:top_n]\n",
    "\n",
    "     # Create a DataFrame with additional information for the recommended items\n",
    "    recommended_items = []\n",
    "    for item, score in top_predictions:\n",
    "        item_info = df[df['id'] == item][['id', 'category_name', 'video_link']].iloc[0]\n",
    "        recommended_items.append({\n",
    "            'id': item_info['id'],\n",
    "            'category_name': item_info['category_name'],\n",
    "            'video_link': item_info['video_link'],\n",
    "            'predicted_score': score\n",
    "        })\n",
    "\n",
    "    return pd.DataFrame(recommended_items)\n"
   ]
  },
  {
   "cell_type": "code",
   "execution_count": 113,
   "id": "5a52713d-fdde-45a5-bf4a-e1786b7f38fb",
   "metadata": {},
   "outputs": [
    {
     "name": "stdout",
     "output_type": "stream",
     "text": [
      "Recommended Posts for User:\n",
      "    id category_name                                         video_link  \\\n",
      "0   34         Vible  https://video-cdn.socialverseapp.com/afrobeezy...   \n",
      "1  459     Gratitube  https://video-cdn.socialverseapp.com/swapnil_a...   \n",
      "2   35         Vible  https://video-cdn.socialverseapp.com/afrobeezy...   \n",
      "3   61         E/ACC  https://video-cdn.socialverseapp.com/afrobeezy...   \n",
      "4   15         Vible  https://video-cdn.socialverseapp.com/michael_b...   \n",
      "\n",
      "   predicted_score  \n",
      "0         1.391892  \n",
      "1         1.229508  \n",
      "2         1.192308  \n",
      "3         1.116279  \n",
      "4         0.943662  \n"
     ]
    }
   ],
   "source": [
    "user_id = 'mike'\n",
    "recommendations = recommend_for_user(user_id, interaction_matrix, model)\n",
    "print(\"Recommended Posts for User:\")\n",
    "print(recommendations)"
   ]
  },
  {
   "cell_type": "markdown",
   "id": "3ec8491c-c00a-46eb-a608-958db98cc098",
   "metadata": {},
   "source": [
    "**3.Hybrid Model**"
   ]
  },
  {
   "cell_type": "code",
   "execution_count": 188,
   "id": "bea3d8ab-9c5f-44e2-b972-a5c9b3e1107f",
   "metadata": {},
   "outputs": [],
   "source": [
    "# Create a TF-IDF matrix for the content (title + category_name)\n",
    "vectorizer = TfidfVectorizer(stop_words='english')\n",
    "content_matrix = vectorizer.fit_transform(df['content'])\n"
   ]
  },
  {
   "cell_type": "code",
   "execution_count": 189,
   "id": "3333326b-2ae5-4ee2-aaf8-679d6ce52956",
   "metadata": {},
   "outputs": [],
   "source": [
    "# Calculate cosine similarity between items based on content features\n",
    "content_similarities = cosine_similarity(content_matrix)\n"
   ]
  },
  {
   "cell_type": "code",
   "execution_count": 190,
   "id": "ba7c17ae-a8b3-4c0a-800e-55d51dfa459e",
   "metadata": {},
   "outputs": [
    {
     "name": "stdout",
     "output_type": "stream",
     "text": [
      "[[ 3.          3.          3.          3.          3.        ]\n",
      " [-0.33333333 -0.33333333 -0.33333333 -0.33333333 -0.33333333]\n",
      " [-0.33333333 -0.33333333 -0.33333333 -0.33333333 -0.33333333]\n",
      " [-0.33333333 -0.33333333 -0.33333333 -0.33333333 -0.33333333]\n",
      " [-0.33333333 -0.33333333 -0.33333333 -0.33333333 -0.33333333]]\n"
     ]
    }
   ],
   "source": [
    "interaction_matrix = df.pivot_table(index='username', columns='id', values='normalized_engagement', fill_value=0)\n",
    "from sklearn.preprocessing import StandardScaler\n",
    "\n",
    "# Normalize the engagement score to handle varying scales\n",
    "scaler = StandardScaler()\n",
    "interaction_matrix_scaled = scaler.fit_transform(interaction_matrix)\n",
    "\n",
    "print(interaction_matrix_scaled[:5, :5])"
   ]
  },
  {
   "cell_type": "code",
   "execution_count": 191,
   "id": "116f4b40-39c8-4b79-8244-486070623dbd",
   "metadata": {},
   "outputs": [],
   "source": [
    "df['user_id'] = df['username'] "
   ]
  },
  {
   "cell_type": "code",
   "execution_count": 192,
   "id": "ac713889-41b6-455d-856d-d53c6871e6ba",
   "metadata": {},
   "outputs": [
    {
     "data": {
      "text/html": [
       "<style>#sk-container-id-7 {color: black;}#sk-container-id-7 pre{padding: 0;}#sk-container-id-7 div.sk-toggleable {background-color: white;}#sk-container-id-7 label.sk-toggleable__label {cursor: pointer;display: block;width: 100%;margin-bottom: 0;padding: 0.3em;box-sizing: border-box;text-align: center;}#sk-container-id-7 label.sk-toggleable__label-arrow:before {content: \"▸\";float: left;margin-right: 0.25em;color: #696969;}#sk-container-id-7 label.sk-toggleable__label-arrow:hover:before {color: black;}#sk-container-id-7 div.sk-estimator:hover label.sk-toggleable__label-arrow:before {color: black;}#sk-container-id-7 div.sk-toggleable__content {max-height: 0;max-width: 0;overflow: hidden;text-align: left;background-color: #f0f8ff;}#sk-container-id-7 div.sk-toggleable__content pre {margin: 0.2em;color: black;border-radius: 0.25em;background-color: #f0f8ff;}#sk-container-id-7 input.sk-toggleable__control:checked~div.sk-toggleable__content {max-height: 200px;max-width: 100%;overflow: auto;}#sk-container-id-7 input.sk-toggleable__control:checked~label.sk-toggleable__label-arrow:before {content: \"▾\";}#sk-container-id-7 div.sk-estimator input.sk-toggleable__control:checked~label.sk-toggleable__label {background-color: #d4ebff;}#sk-container-id-7 div.sk-label input.sk-toggleable__control:checked~label.sk-toggleable__label {background-color: #d4ebff;}#sk-container-id-7 input.sk-hidden--visually {border: 0;clip: rect(1px 1px 1px 1px);clip: rect(1px, 1px, 1px, 1px);height: 1px;margin: -1px;overflow: hidden;padding: 0;position: absolute;width: 1px;}#sk-container-id-7 div.sk-estimator {font-family: monospace;background-color: #f0f8ff;border: 1px dotted black;border-radius: 0.25em;box-sizing: border-box;margin-bottom: 0.5em;}#sk-container-id-7 div.sk-estimator:hover {background-color: #d4ebff;}#sk-container-id-7 div.sk-parallel-item::after {content: \"\";width: 100%;border-bottom: 1px solid gray;flex-grow: 1;}#sk-container-id-7 div.sk-label:hover label.sk-toggleable__label {background-color: #d4ebff;}#sk-container-id-7 div.sk-serial::before {content: \"\";position: absolute;border-left: 1px solid gray;box-sizing: border-box;top: 0;bottom: 0;left: 50%;z-index: 0;}#sk-container-id-7 div.sk-serial {display: flex;flex-direction: column;align-items: center;background-color: white;padding-right: 0.2em;padding-left: 0.2em;position: relative;}#sk-container-id-7 div.sk-item {position: relative;z-index: 1;}#sk-container-id-7 div.sk-parallel {display: flex;align-items: stretch;justify-content: center;background-color: white;position: relative;}#sk-container-id-7 div.sk-item::before, #sk-container-id-7 div.sk-parallel-item::before {content: \"\";position: absolute;border-left: 1px solid gray;box-sizing: border-box;top: 0;bottom: 0;left: 50%;z-index: -1;}#sk-container-id-7 div.sk-parallel-item {display: flex;flex-direction: column;z-index: 1;position: relative;background-color: white;}#sk-container-id-7 div.sk-parallel-item:first-child::after {align-self: flex-end;width: 50%;}#sk-container-id-7 div.sk-parallel-item:last-child::after {align-self: flex-start;width: 50%;}#sk-container-id-7 div.sk-parallel-item:only-child::after {width: 0;}#sk-container-id-7 div.sk-dashed-wrapped {border: 1px dashed gray;margin: 0 0.4em 0.5em 0.4em;box-sizing: border-box;padding-bottom: 0.4em;background-color: white;}#sk-container-id-7 div.sk-label label {font-family: monospace;font-weight: bold;display: inline-block;line-height: 1.2em;}#sk-container-id-7 div.sk-label-container {text-align: center;}#sk-container-id-7 div.sk-container {/* jupyter's `normalize.less` sets `[hidden] { display: none; }` but bootstrap.min.css set `[hidden] { display: none !important; }` so we also need the `!important` here to be able to override the default hidden behavior on the sphinx rendered scikit-learn.org. See: https://github.com/scikit-learn/scikit-learn/issues/21755 */display: inline-block !important;position: relative;}#sk-container-id-7 div.sk-text-repr-fallback {display: none;}</style><div id=\"sk-container-id-7\" class=\"sk-top-container\"><div class=\"sk-text-repr-fallback\"><pre>NearestNeighbors(metric=&#x27;cosine&#x27;)</pre><b>In a Jupyter environment, please rerun this cell to show the HTML representation or trust the notebook. <br />On GitHub, the HTML representation is unable to render, please try loading this page with nbviewer.org.</b></div><div class=\"sk-container\" hidden><div class=\"sk-item\"><div class=\"sk-estimator sk-toggleable\"><input class=\"sk-toggleable__control sk-hidden--visually\" id=\"sk-estimator-id-7\" type=\"checkbox\" checked><label for=\"sk-estimator-id-7\" class=\"sk-toggleable__label sk-toggleable__label-arrow\">NearestNeighbors</label><div class=\"sk-toggleable__content\"><pre>NearestNeighbors(metric=&#x27;cosine&#x27;)</pre></div></div></div></div></div>"
      ],
      "text/plain": [
       "NearestNeighbors(metric='cosine')"
      ]
     },
     "execution_count": 192,
     "metadata": {},
     "output_type": "execute_result"
    }
   ],
   "source": [
    "# Create an item-item similarity matrix using the engagement score\n",
    "item_model = NearestNeighbors(n_neighbors=5, metric='cosine', algorithm='auto')\n",
    "item_model.fit(interaction_matrix.T.values)  # Fit on transposed interaction matrix (item-based)"
   ]
  },
  {
   "cell_type": "code",
   "execution_count": 195,
   "id": "6b2a5772-13b3-4daa-815d-a7cd6ba8dba7",
   "metadata": {},
   "outputs": [],
   "source": [
    "#Hybrid Model - Combine content-based and item-based recommendations\n",
    "#  alpha is the weight given to content-based filtering (0 to 1).\n",
    "def hybrid_recommendation(user_id, interaction_matrix, item_model, content_similarities, df, top_n=5, alpha=0.5):\n",
    "     if user_id not in interaction_matrix.index:\n",
    "        return f\"User {user_id} not found in the dataset.\"\n",
    "     user_index = interaction_matrix.index.get_loc(user_id)\n",
    "#content-based recommendations\n",
    "     user_engaged_items = interaction_matrix.columns[interaction_matrix.loc[user_id] > 0]\n",
    "     content_predictions = {}\n",
    "     for item in user_engaged_items:\n",
    "        item_index = df[df['id'] == item].index[0]\n",
    "        similar_items = np.argsort(content_similarities[item_index])[-top_n:]\n",
    "        content_predictions[item] = np.mean(content_similarities[item_index][similar_items])\n",
    "#item-based collaborative recommendations\n",
    "     item_predictions = {}\n",
    "     for item in interaction_matrix.columns:\n",
    "        distances, indices = item_model.kneighbors(interaction_matrix[item].values.reshape(1, -1))\n",
    "        similar_items = interaction_matrix.columns[indices[0]]\n",
    "        item_predictions[item] = np.mean([interaction_matrix.loc[user_id, similar_item] for similar_item in similar_items])\n",
    "#hybrid recommendation\n",
    "     hybrid_predictions={}\n",
    "     for item in interaction_matrix.columns:\n",
    "        hybrid_predictions[item] = alpha * content_predictions.get(item, 0) + (1 - alpha) * item_predictions.get(item, 0)\n",
    "     top_recommendations = sorted(hybrid_predictions.items(), key=lambda x: x[1], reverse=True)[:top_n]\n",
    "    # Get details of recommended items (id, category_name, video_link)\n",
    "     recommended_items = []\n",
    "     for item, score in top_recommendations:\n",
    "        item_info = df[df['id'] == item][['id', 'category_name', 'video_link','normalized_engagement']].iloc[0]\n",
    "        recommended_items.append({\n",
    "            'id': item_info['id'],\n",
    "            'category_name': item_info['category_name'],\n",
    "            'video_link': item_info['video_link'],\n",
    "            'normalized_engagement':item_info['normalized_engagement'],\n",
    "            'predicted_score': score\n",
    "        })\n",
    "     return pd.DataFrame(recommended_items)   "
   ]
  },
  {
   "cell_type": "code",
   "execution_count": 196,
   "id": "8243dae0-9b07-45eb-af84-920b80d12cf4",
   "metadata": {},
   "outputs": [
    {
     "name": "stdout",
     "output_type": "stream",
     "text": [
      "Hybrid Recommended Items for User:\n",
      "   id category_name                                         video_link  \\\n",
      "0  11         Vible  https://video-cdn.socialverseapp.com/michael_9...   \n",
      "1  14         Vible  https://video-cdn.socialverseapp.com/michael_4...   \n",
      "2  15         Vible  https://video-cdn.socialverseapp.com/michael_b...   \n",
      "3  16         Vible  https://video-cdn.socialverseapp.com/michael_4...   \n",
      "4  19         Vible  https://video-cdn.socialverseapp.com/michael_1...   \n",
      "\n",
      "   normalized_engagement  predicted_score  \n",
      "0               0.865201         0.961226  \n",
      "1               0.864440         0.961226  \n",
      "2               0.868342         0.961226  \n",
      "3               0.863573         0.961226  \n",
      "4               0.858674         0.961226  \n"
     ]
    }
   ],
   "source": [
    "user_id = 'afrobeezy'\n",
    "recommendations = hybrid_recommendation(user_id, interaction_matrix, item_model, content_similarities, df, top_n=5, alpha=0.7)\n",
    "print(\"Hybrid Recommended Items for User:\")\n",
    "print(recommendations)"
   ]
  },
  {
   "cell_type": "markdown",
   "id": "ae9a4cf9-9115-4789-90f1-2c3255fe1afe",
   "metadata": {},
   "source": [
    "<h2>EVALUATION METRICS</h2>"
   ]
  },
  {
   "cell_type": "markdown",
   "id": "217233b2-2d7c-4edd-855f-146136c271a9",
   "metadata": {},
   "source": [
    "**CONTENT-BASED FILTERING**"
   ]
  },
  {
   "cell_type": "code",
   "execution_count": 162,
   "id": "420acb1b-f140-4dd2-8415-98b53a963794",
   "metadata": {},
   "outputs": [],
   "source": [
    "recommended_posts_cb = get_recommendations(post_id=10, cosine_sim=cosine_sim, df=df, top_n=5)\n",
    "actual_scores_cb = recommended_posts_cb['normalized_engagement'].values\n",
    "predicted_scores_cb = recommended_posts_cb['predicted_score'].values"
   ]
  },
  {
   "cell_type": "code",
   "execution_count": 163,
   "id": "240dfb04-4aff-487a-bf5a-aafe57d4afd7",
   "metadata": {},
   "outputs": [
    {
     "name": "stdout",
     "output_type": "stream",
     "text": [
      "Content-Based Filtering MAE: 0.47748526522593326\n",
      "Content-Based Filtering RMSE: 0.47958712009351206\n"
     ]
    }
   ],
   "source": [
    "from sklearn.metrics import mean_absolute_error, mean_squared_error\n",
    "import numpy as np\n",
    "\n",
    "# Calculate metrics\n",
    "mae_cb = mean_absolute_error(actual_scores_cb, predicted_scores_cb)\n",
    "rmse_cb = np.sqrt(mean_squared_error(actual_scores_cb, predicted_scores_cb))\n",
    "\n",
    "print(f\"Content-Based Filtering MAE: {mae_cb}\")\n",
    "print(f\"Content-Based Filtering RMSE: {rmse_cb}\")"
   ]
  },
  {
   "cell_type": "markdown",
   "id": "dcbd93c6-e958-4123-bbe3-87af4c2a4918",
   "metadata": {},
   "source": [
    "**COLLABORATIVE FILTERING**"
   ]
  },
  {
   "cell_type": "code",
   "execution_count": 166,
   "id": "55396e61-76a1-48e5-9546-ac138293334c",
   "metadata": {},
   "outputs": [],
   "source": [
    "user_id = 'kinha'\n",
    "recommended_items_df = recommend_for_user(user_id, interaction_matrix, model, top_n=5)\n",
    "\n",
    "# Extract predicted scores from recommendations\n",
    "predicted_scores = recommended_items_df['predicted_score'].values\n",
    "\n",
    "# Extract actual engagement scores for the recommended items from the interaction matrix or df\n",
    "actual_scores = []\n",
    "for item_id in recommended_items_df['id']:\n",
    "    # Get the actual engagement score for the item\n",
    "    actual_score = interaction_matrix.loc[user_id, item_id] if item_id in interaction_matrix.columns else 0\n",
    "    actual_scores.append(actual_score)\n"
   ]
  },
  {
   "cell_type": "code",
   "execution_count": 167,
   "id": "dc4906f1-5bbb-44e4-a9ab-242e9be7b816",
   "metadata": {},
   "outputs": [
    {
     "name": "stdout",
     "output_type": "stream",
     "text": [
      "Mean Absolute Error (MAE): 0.8899575834002065\n",
      "Root Mean Square Error (RMSE): 0.9103131809132409\n"
     ]
    }
   ],
   "source": [
    "mae = mean_absolute_error(actual_scores, predicted_scores)\n",
    "rmse = np.sqrt(mean_squared_error(actual_scores, predicted_scores))\n",
    "\n",
    "print(f\"Mean Absolute Error (MAE): {mae}\")\n",
    "print(f\"Root Mean Square Error (RMSE): {rmse}\")"
   ]
  },
  {
   "cell_type": "markdown",
   "id": "6eeba50e-2357-4480-a5f1-594094188f7f",
   "metadata": {},
   "source": [
    "**HYBRID MODEL**"
   ]
  },
  {
   "cell_type": "code",
   "execution_count": 197,
   "id": "dd0fd79e-ac00-4fb0-9b9a-a3a8a80d54c9",
   "metadata": {},
   "outputs": [],
   "source": [
    "recommended_posts_hybrid = hybrid_recommendation(user_id=user_id, \n",
    "                                                 interaction_matrix=interaction_matrix, \n",
    "                                                 item_model=item_model, \n",
    "                                                 content_similarities=cosine_sim, \n",
    "                                                 df=df, top_n=5, alpha=0.7)\n",
    "\n"
   ]
  },
  {
   "cell_type": "code",
   "execution_count": 200,
   "id": "1f565d34-05b7-4379-9b5c-a9bf65d51ab6",
   "metadata": {},
   "outputs": [],
   "source": [
    "actual_scores_hybrid = recommended_posts_hybrid['normalized_engagement'].values\n",
    "predicted_scores_hybrid = recommended_posts_hybrid['predicted_score'].values"
   ]
  },
  {
   "cell_type": "code",
   "execution_count": 201,
   "id": "41467cf1-ae44-4806-82c0-d8d7a26753ca",
   "metadata": {},
   "outputs": [
    {
     "name": "stdout",
     "output_type": "stream",
     "text": [
      "Hybrid Model MAE: 0.09402539661937545\n",
      "Hybrid Model RMSE: 0.09410892821742863\n"
     ]
    }
   ],
   "source": [
    "mae_hybrid = mean_absolute_error(actual_scores_hybrid, predicted_scores_hybrid)\n",
    "rmse_hybrid = np.sqrt(mean_squared_error(actual_scores_hybrid, predicted_scores_hybrid))\n",
    "\n",
    "print(f\"Hybrid Model MAE: {mae_hybrid}\")\n",
    "print(f\"Hybrid Model RMSE: {rmse_hybrid}\")"
   ]
  },
  {
   "cell_type": "code",
   "execution_count": 202,
   "id": "5d84b59c-4c36-4abd-9db6-26aadfc6523f",
   "metadata": {},
   "outputs": [
    {
     "data": {
      "text/plain": [
       "array(['Happy', 'Excited', 'Neutral'], dtype=object)"
      ]
     },
     "execution_count": 202,
     "metadata": {},
     "output_type": "execute_result"
    }
   ],
   "source": [
    "df['mood'].unique()"
   ]
  },
  {
   "cell_type": "markdown",
   "id": "fd11c46d-af5a-47fc-8346-8362ffe7cf84",
   "metadata": {},
   "source": [
    "<h2>COLD START PROBLEM HANDLING</h2>"
   ]
  },
  {
   "cell_type": "code",
   "execution_count": 214,
   "id": "a54761bb-6baf-43d3-870b-edbe2d2b99b5",
   "metadata": {},
   "outputs": [],
   "source": [
    "emoji_to_mood = {\n",
    "    '😊': 'Happy',\n",
    "    '😃': 'Excited',\n",
    "    '😐': 'Neutral',\n",
    "}\n"
   ]
  },
  {
   "cell_type": "code",
   "execution_count": 215,
   "id": "9726f8e1-8524-4641-8682-06e15e464706",
   "metadata": {},
   "outputs": [],
   "source": [
    "mood_to_content = {\n",
    "    \"Happy\": [\"motivational\", \"fun\", \"positive\",\"relaxing\",  \"ambient\"],\n",
    "    \"Excited\": [\"high-energy\", \"sports\", \"action\", \"adventure\"],\n",
    "    \"Neutral\": [\"calming\", \"nature\", \"meditation\" \"documentary\", \"chill\"],\n",
    "    }"
   ]
  },
  {
   "cell_type": "code",
   "execution_count": 216,
   "id": "2ad0ade9-f244-47eb-8141-26b2b6237b07",
   "metadata": {},
   "outputs": [],
   "source": [
    "def recommend_videos_by_emoji(user_emoji, df, top_n=5):\n",
    "    \n",
    "    # Convert emoji to mood (default to 'Neutral' if emoji not found)\n",
    "    user_mood = emoji_to_mood.get(user_emoji, 'Neutral')  # Default to 'Neutral'\n",
    "    \n",
    "    # Debug: Check what mood was assigned\n",
    "    print(f\"User Mood: {user_mood}\") \n",
    "    \n",
    "    # Get the content categories corresponding to the user's mood\n",
    "    content_categories = mood_to_content.get(user_mood, [])\n",
    "    \n",
    "    # Filter the content based on the mood's content categories\n",
    "    # You can adjust the filtering logic to match the mood column in your dataset if needed\n",
    "    filtered_content = df[df['mood'].isin(content_categories)]\n",
    "    \n",
    "    # If no content matches, fallback to random selection\n",
    "    if filtered_content.empty:\n",
    "        filtered_content = df.sample(top_n)\n",
    "    \n",
    "    return filtered_content[['title', 'mood', 'normalized_engagement', 'user_id']].head(top_n)"
   ]
  },
  {
   "cell_type": "code",
   "execution_count": 217,
   "id": "15ae71f1-d24c-458d-afa9-d4ea209614d7",
   "metadata": {},
   "outputs": [
    {
     "name": "stdout",
     "output_type": "stream",
     "text": [
      "User Mood: Happy\n",
      "                                                 title     mood  \\\n",
      "320                         For God so loved the world    Happy   \n",
      "228  The story of prophet Elijah proving who the re...    Happy   \n",
      "258                               these orthodox monks    Happy   \n",
      "193                           🚀 Best memecoins on Tron  Neutral   \n",
      "56                                   Prayer before bed    Happy   \n",
      "\n",
      "     normalized_engagement user_id  \n",
      "320               0.854260   kinha  \n",
      "228               0.867808   kinha  \n",
      "258               0.857704   kinha  \n",
      "193               0.828362   kinha  \n",
      "56                0.878193   kinha  \n"
     ]
    }
   ],
   "source": [
    "user_emoji = '😊'  # User is feeling happy\n",
    "recommended_videos = recommend_videos_by_emoji(user_emoji, df)\n",
    "\n",
    "# Output the recommended videos\n",
    "print(recommended_videos)"
   ]
  },
  {
   "cell_type": "code",
   "execution_count": 218,
   "id": "3be71837-4999-4447-9435-d773b41e48c7",
   "metadata": {},
   "outputs": [
    {
     "data": {
      "text/html": [
       "<div>\n",
       "<style scoped>\n",
       "    .dataframe tbody tr th:only-of-type {\n",
       "        vertical-align: middle;\n",
       "    }\n",
       "\n",
       "    .dataframe tbody tr th {\n",
       "        vertical-align: top;\n",
       "    }\n",
       "\n",
       "    .dataframe thead th {\n",
       "        text-align: right;\n",
       "    }\n",
       "</style>\n",
       "<table border=\"1\" class=\"dataframe\">\n",
       "  <thead>\n",
       "    <tr style=\"text-align: right;\">\n",
       "      <th></th>\n",
       "      <th>id</th>\n",
       "      <th>title</th>\n",
       "      <th>comment_count</th>\n",
       "      <th>upvote_count</th>\n",
       "      <th>view_count</th>\n",
       "      <th>rating_count</th>\n",
       "      <th>average_rating</th>\n",
       "      <th>share_count</th>\n",
       "      <th>exit_count</th>\n",
       "      <th>created_at</th>\n",
       "      <th>...</th>\n",
       "      <th>profile_url</th>\n",
       "      <th>isVerified</th>\n",
       "      <th>last_login</th>\n",
       "      <th>post_count</th>\n",
       "      <th>following_count</th>\n",
       "      <th>follower_count</th>\n",
       "      <th>mood</th>\n",
       "      <th>content</th>\n",
       "      <th>user_id</th>\n",
       "      <th>normalized_engagement</th>\n",
       "    </tr>\n",
       "  </thead>\n",
       "  <tbody>\n",
       "    <tr>\n",
       "      <th>0</th>\n",
       "      <td>1379</td>\n",
       "      <td>When the heart and the mind work together.. ❤️...</td>\n",
       "      <td>0</td>\n",
       "      <td>2</td>\n",
       "      <td>17</td>\n",
       "      <td>3</td>\n",
       "      <td>25</td>\n",
       "      <td>2</td>\n",
       "      <td>393</td>\n",
       "      <td>2024-11-28 19:30:23</td>\n",
       "      <td>...</td>\n",
       "      <td>https://assets.socialverseapp.com/profile/7.png</td>\n",
       "      <td>False</td>\n",
       "      <td>2024-12-06 02:27:59</td>\n",
       "      <td>13</td>\n",
       "      <td>0</td>\n",
       "      <td>1</td>\n",
       "      <td>Happy</td>\n",
       "      <td>Bloom Scroll Scroll until you bloom</td>\n",
       "      <td>bloomscroller</td>\n",
       "      <td>0.467583</td>\n",
       "    </tr>\n",
       "  </tbody>\n",
       "</table>\n",
       "<p>1 rows × 33 columns</p>\n",
       "</div>"
      ],
      "text/plain": [
       "     id                                              title  comment_count  \\\n",
       "0  1379  When the heart and the mind work together.. ❤️...              0   \n",
       "\n",
       "   upvote_count  view_count  rating_count  average_rating  share_count  \\\n",
       "0             2          17             3              25            2   \n",
       "\n",
       "   exit_count           created_at  ...  \\\n",
       "0         393  2024-11-28 19:30:23  ...   \n",
       "\n",
       "                                       profile_url isVerified  \\\n",
       "0  https://assets.socialverseapp.com/profile/7.png      False   \n",
       "\n",
       "            last_login  post_count  following_count follower_count   mood  \\\n",
       "0  2024-12-06 02:27:59          13                0              1  Happy   \n",
       "\n",
       "                               content        user_id normalized_engagement  \n",
       "0  Bloom Scroll Scroll until you bloom  bloomscroller              0.467583  \n",
       "\n",
       "[1 rows x 33 columns]"
      ]
     },
     "execution_count": 218,
     "metadata": {},
     "output_type": "execute_result"
    }
   ],
   "source": [
    "df.head(1)"
   ]
  },
  {
   "cell_type": "code",
   "execution_count": 219,
   "id": "fbcea536-6a0a-48a7-8bc9-7289a6f434d9",
   "metadata": {},
   "outputs": [
    {
     "data": {
      "text/plain": [
       "Index(['id', 'title', 'comment_count', 'upvote_count', 'view_count',\n",
       "       'rating_count', 'average_rating', 'share_count', 'exit_count',\n",
       "       'created_at', 'username', 'interaction_type', 'engagement_score',\n",
       "       'interaction_rate', 'category_id', 'video_link', 'category_name',\n",
       "       'category_count', 'category_description', 'email', 'first_name',\n",
       "       'last_name', 'role', 'profile_url', 'isVerified', 'last_login',\n",
       "       'post_count', 'following_count', 'follower_count', 'mood', 'content',\n",
       "       'user_id', 'normalized_engagement'],\n",
       "      dtype='object')"
      ]
     },
     "execution_count": 219,
     "metadata": {},
     "output_type": "execute_result"
    }
   ],
   "source": [
    "final_data.columns"
   ]
  },
  {
   "cell_type": "code",
   "execution_count": null,
   "id": "c46a6822-6594-459c-ab25-cb5446e6c872",
   "metadata": {},
   "outputs": [],
   "source": []
  }
 ],
 "metadata": {
  "kernelspec": {
   "display_name": "Python 3 (ipykernel)",
   "language": "python",
   "name": "python3"
  },
  "language_info": {
   "codemirror_mode": {
    "name": "ipython",
    "version": 3
   },
   "file_extension": ".py",
   "mimetype": "text/x-python",
   "name": "python",
   "nbconvert_exporter": "python",
   "pygments_lexer": "ipython3",
   "version": "3.10.4"
  }
 },
 "nbformat": 4,
 "nbformat_minor": 5
}
